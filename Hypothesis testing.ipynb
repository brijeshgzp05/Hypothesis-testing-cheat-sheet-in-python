{
 "cells": [
  {
   "cell_type": "markdown",
   "metadata": {},
   "source": [
    "# Hypothesis testing"
   ]
  },
  {
   "cell_type": "markdown",
   "metadata": {},
   "source": [
    "## Z test\n",
    "### One sample test\n",
    "\n",
    "Formula: $$  z  = \\frac{(\\bar x -  \\Delta)}{\\frac{\\sigma}{\\sqrt n}}  $$"
   ]
  },
  {
   "cell_type": "markdown",
   "metadata": {},
   "source": [
    "Question 1 : A herd of 1,500 steer was fed a special high‐protein grain for a month. A random sample of 29 were weighed and had gained an average of 6.7 pounds. If the standard deviation of weight gain for the entire herd is 7.1, test the hypothesis that the average weight gain per steer for the month was more than 5 pounds."
   ]
  },
  {
   "cell_type": "code",
   "execution_count": 105,
   "metadata": {},
   "outputs": [],
   "source": [
    "from scipy.stats import norm\n",
    "from scipy import stats\n",
    "from math import sqrt,ceil\n",
    "import math\n",
    "import numpy as np"
   ]
  },
  {
   "cell_type": "code",
   "execution_count": 108,
   "metadata": {},
   "outputs": [
    {
     "name": "stdout",
     "output_type": "stream",
     "text": [
      "z - score =  1.2894056580462898\n",
      "p Value =  0.0986285477062051\n"
     ]
    }
   ],
   "source": [
    "# H0 => mean=5\n",
    "# Ha => mean>5\n",
    "# It is a one(right) tailed test\n",
    "# Given population mean=5, sample mean=6.7, population sd=7.1, n=29\n",
    "population_mean=5\n",
    "sample_mean=6.7\n",
    "population_sd=7.1\n",
    "n=29\n",
    "\n",
    "z = (sample_mean-population_mean) / (population_sd/sqrt(n))\n",
    "print(\"z - score = \",z)\n",
    "\n",
    "pValue = 1-norm.cdf(z)               # right tailed\n",
    "print(\"p Value = \", pValue)"
   ]
  },
  {
   "cell_type": "markdown",
   "metadata": {},
   "source": [
    "Here p>alpha(0.05) accept null hypothesis."
   ]
  },
  {
   "cell_type": "markdown",
   "metadata": {},
   "source": [
    "## ---------------------------------------------------------------------------------"
   ]
  },
  {
   "cell_type": "markdown",
   "metadata": {},
   "source": [
    "Question 2 :In national use, a vocabulary test is known to have a mean score of 68 and a standard deviation of 13. A class of 19 students takes the test and has a mean score of 65. Is the class typical of others who have taken the test? Assume a significance level of p < 0.05."
   ]
  },
  {
   "cell_type": "code",
   "execution_count": 121,
   "metadata": {},
   "outputs": [
    {
     "name": "stdout",
     "output_type": "stream",
     "text": [
      "z - score =  -1.005899756201694\n",
      "critical_z :  -1.9599639845400545\n"
     ]
    }
   ],
   "source": [
    "# Let's solve the problem\n",
    "# It is a two tailed test \n",
    "# If the significance level is 5% we have to put it 2.5% on both sides of the disribution\n",
    "# H0 => mean=68\n",
    "# Ha => mean!=68\n",
    "# Given population mean=68, sample mean=65, population sd=13, n=19\n",
    "population_mean=68\n",
    "sample_mean=65\n",
    "population_sd=13\n",
    "n=19\n",
    "\n",
    "z = (sample_mean-population_mean) / (population_sd/sqrt(n))\n",
    "print(\"z - score = \",z)\n",
    "\n",
    "critical_z = norm.ppf(0.025)\n",
    "print(\"critical_z : \", critical_z)"
   ]
  },
  {
   "cell_type": "markdown",
   "metadata": {},
   "source": [
    "On zscore is between critical z, we accept the null hypothesis.\n",
    "\n",
    "## ---------------------------------------------------------------------\n",
    "\n",
    "Question 3 :A sample of 12 machine pins has a mean diameter of 1.15 inches, and the population standard deviation is known to be 0.04. What is a 99 percent confidence interval of diameter width for the population?"
   ]
  },
  {
   "cell_type": "code",
   "execution_count": 25,
   "metadata": {},
   "outputs": [],
   "source": [
    "# n=12, sample mean=1.15,  population standard deviation = 0.04"
   ]
  },
  {
   "cell_type": "code",
   "execution_count": 110,
   "metadata": {},
   "outputs": [
    {
     "name": "stdout",
     "output_type": "stream",
     "text": [
      "zscore :  -2.575829303548901\n",
      "Interval_99 : (1.1202568851641903,1.1797431148358095)\n"
     ]
    }
   ],
   "source": [
    "# we have to calculate the z score at pvalue = 1-0.99 i.e., 0.01\n",
    "# since it is two tailed, we have to calculate z score at both sides i.e., 0.005\n",
    "# calculating zscore on left tail\n",
    "zscore = norm.ppf(0.005)\n",
    "print(\"zscore : \",zscore)\n",
    "\n",
    "# calculating interval\n",
    "val1 = 1.15 + zscore * (0.04/sqrt(12))\n",
    "val2 = 1.15 - zscore * (0.04/sqrt(12))\n",
    "\n",
    "print(\"Interval_99 : (\"+str(val1)+\",\"+str(val2)+\")\")"
   ]
  },
  {
   "cell_type": "markdown",
   "metadata": {},
   "source": [
    "## -------------------------------------------------------------------------\n",
    "Question 4:How many subjects will be needed to find the average age of students at Fisher College plus or minus a year, with a 95 percent significance level and a population standard deviation of 3.5?"
   ]
  },
  {
   "cell_type": "code",
   "execution_count": 41,
   "metadata": {},
   "outputs": [
    {
     "name": "stdout",
     "output_type": "stream",
     "text": [
      "Sample size :  48\n"
     ]
    }
   ],
   "source": [
    "# n=?, pValue = 0.05 which is 0.025 on both sides\n",
    "# critical z score = 1.96\n",
    "# let sample mean=x and sample size=n\n",
    "\n",
    "# eq1 => x-1 = x - 1.96 * (3.5 / sqrt(n) )\n",
    "# eq2 => x+1 = x + 1.96 * (3.5 / sqrt(n) )\n",
    "\n",
    "# eq2-eq1 => \n",
    "n = pow(1.96*3.5,2)\n",
    "\n",
    "print(\"Sample size : \", math.ceil(n))"
   ]
  },
  {
   "cell_type": "markdown",
   "metadata": {},
   "source": [
    "### Two sample test\n",
    "\n",
    "Formula : $$ z = \\frac{\\bar x_1 - \\bar x_2 - \\Delta}{\\sqrt{ \\frac{\\sigma_1^2}{n_1} + \\frac{\\sigma_2^2}{n_2} }} $$\n",
    "\n",
    "Question 5:The amount of a certain trace element in blood is known to vary with a standard deviation of 14.1 ppm (parts per million) for male blood donors and 9.5 ppm for female donors. Random samples of 75 male and 50 female donors yield concentration means of 28 and 33 ppm, respectively. What is the likelihood that the population means of concentrations of the element are the same for men and women?"
   ]
  },
  {
   "cell_type": "code",
   "execution_count": 123,
   "metadata": {},
   "outputs": [
    {
     "name": "stdout",
     "output_type": "stream",
     "text": [
      "zscore :  -2.368684181472862\n",
      "critical_z :  -1.9599639845400545\n"
     ]
    }
   ],
   "source": [
    "# H0 => mean1=mean2\n",
    "# Ha => mean1!=mean2\n",
    "\n",
    "zscore = ((28-33)-(0)) / sqrt( (14.1**2 / 75) + (9.5**2) / 50 )\n",
    "print(\"zscore : \",zscore)\n",
    "\n",
    "# it is a two tailed test over significance level 5%\n",
    "critical_z = norm.ppf(0.025)\n",
    "print(\"critical_z : \", critical_z)"
   ]
  },
  {
   "cell_type": "markdown",
   "metadata": {},
   "source": [
    "since zscore not in critical range,  reject the null hypothesis"
   ]
  },
  {
   "cell_type": "markdown",
   "metadata": {},
   "source": [
    "## -------------------------------------------------------------------------------\n",
    "## T test\n",
    "\n",
    "### One sample test\n",
    "\n",
    "Formula: $$  z  = \\frac{(\\bar x -  \\Delta)}{\\frac{s}{\\sqrt n}}  $$"
   ]
  },
  {
   "cell_type": "markdown",
   "metadata": {},
   "source": [
    "Question 6:A professor wants to know if her introductory statistics class has a good grasp of basic math. Six students are chosen at random from the class and given a math proficiency test. The professor wants the class to be able to score above 70 on the test. The six students get scores of 62, 92, 75, 68, 83, and 95. Can the professor have 90 percent confidence that the mean score for the class on the test would be above 70?"
   ]
  },
  {
   "cell_type": "code",
   "execution_count": 118,
   "metadata": {},
   "outputs": [
    {
     "name": "stdout",
     "output_type": "stream",
     "text": [
      "sample_mean : 79.16666666666667,  sample_std : 13.166877635440631\n",
      "tstat :  1.705313636019149\n",
      "pValue :  0.07442681355650138\n"
     ]
    }
   ],
   "source": [
    "# H0 => mean=70\n",
    "# Ha => mean>70\n",
    "# It is a upper tailed test (one tailed) significance level = 0.1\n",
    "n=6\n",
    "df=n-1\n",
    "\n",
    "sample = np.array([62, 92, 75, 68, 83, 95])\n",
    "sample_mean = np.mean(sample)\n",
    "sample_std  = sqrt(sum(np.square(sample-sample_mean))/(n-1))\n",
    "\n",
    "print(\"sample_mean : %s,  sample_std : %s\"%(sample_mean, sample_std))\n",
    "tstat = (sample_mean-70)/(sample_std/sqrt(6))\n",
    "print(\"tstat : \",tstat)\n",
    "pValue = 1-stats.t.cdf(tstat,df=df)\n",
    "print(\"pValue : \",pValue)"
   ]
  },
  {
   "cell_type": "markdown",
   "metadata": {},
   "source": [
    "Since p value < 0.1, we can reject the null hypothesis"
   ]
  },
  {
   "cell_type": "markdown",
   "metadata": {},
   "source": [
    "## -------------------------------------------------------------------\n",
    "\n",
    "Question 7:A Little League baseball coach wants to know if his team is representative of other teams in scoring runs. Nationally, the average number of runs scored by a Little League team in a game is 5.7. He chooses five games at random in which his team scored 5 , 9, 4, 11, and 8 runs. Is it likely that his team's scores could have come from the national distribution? Assume an alpha level of 0.05."
   ]
  },
  {
   "cell_type": "code",
   "execution_count": 130,
   "metadata": {},
   "outputs": [
    {
     "name": "stdout",
     "output_type": "stream",
     "text": [
      "sample_mean : 7.4,  sample_std : 2.8809720581775866\n",
      "tstat :  1.319455893700766\n",
      "critical_t :  -2.7764451051977996\n"
     ]
    }
   ],
   "source": [
    "# p_mean = 5.7\n",
    "# significance level = 0.05\n",
    "# H0 => mean = 5.7\n",
    "# Ha => mean != 5.7\n",
    "# It is a two tailed test\n",
    "n=5;df=4;p_mean=5.7\n",
    "sample = np.array([5,9,4,11,8])\n",
    "\n",
    "sample_mean = np.mean(sample)\n",
    "sample_std  = sqrt(sum(np.square(sample-sample_mean))/(n-1))\n",
    "\n",
    "print(\"sample_mean : %s,  sample_std : %s\"%(sample_mean, sample_std))\n",
    "tstat = (sample_mean-p_mean)/(sample_std/sqrt(n))\n",
    "print(\"tstat : \",tstat)\n",
    "critical_t = stats.t.ppf(0.025,df=df)\n",
    "print(\"critical_t : \", critical_t)"
   ]
  },
  {
   "cell_type": "markdown",
   "metadata": {},
   "source": [
    "Since critical t between critical range,  you accept the null hypothesis.\n",
    "\n",
    "## ------------------------------------------------------------------------------------\n",
    "\n",
    "Question 8:Using the previous example, what is a 95 percent confidence interval for runs scored per team per game?"
   ]
  },
  {
   "cell_type": "code",
   "execution_count": 132,
   "metadata": {},
   "outputs": [
    {
     "name": "stdout",
     "output_type": "stream",
     "text": [
      "tstat_95 :  -2.7764451051977996\n",
      "Interval_95 : (3.822800715529883,10.977199284470117)\n"
     ]
    }
   ],
   "source": [
    "# calculating tstat on left tail\n",
    "n=5;df=4;p_mean=5.7\n",
    "sample = np.array([5,9,4,11,8])\n",
    "\n",
    "sample_mean = np.mean(sample)\n",
    "sample_std  = sqrt(sum(np.square(sample-sample_mean))/(n-1))\n",
    "\n",
    "tstat_95 = stats.t.ppf(0.05/2,df=df)\n",
    "print(\"tstat_95 : \",tstat_95)\n",
    "val1 = sample_mean + tstat_95 * (sample_std/(sqrt(n)))\n",
    "val2 = sample_mean - tstat_95 * (sample_std/(sqrt(n)))\n",
    "print(\"Interval_95 : (\"+str(val1)+\",\"+str(val2)+\")\")"
   ]
  },
  {
   "cell_type": "markdown",
   "metadata": {},
   "source": [
    "## --------------------------------------------------------------------------\n",
    "### Two sample test\n",
    "\n",
    "Formula : $$ z = \\frac{\\bar x_1 - \\bar x_2 - \\Delta}{\\sqrt{ \\frac{s_1^2}{n_1} + \\frac{s_2^2}{n_2} }}  $$\n",
    "\n",
    "Question 9:An experiment is conducted to determine whether intensive tutoring (covering a great deal of material in a fixed amount of time) is more effective than paced tutoring (covering less material in the same amount of time). Two randomly chosen groups are tutored separately and then administered proficiency tests. Use a significance level of α < 0.05.\n",
    "\n",
    "For intensive : n = 12, xbar = 46.31, s = 6.44\n",
    "\n",
    "For paced     : n = 10, xbar = 42.79, s = 7.92"
   ]
  },
  {
   "cell_type": "code",
   "execution_count": 137,
   "metadata": {},
   "outputs": [
    {
     "name": "stdout",
     "output_type": "stream",
     "text": [
      "tstat :  1.1285313315395324\n",
      "pValue :  0.48030918549939483\n"
     ]
    }
   ],
   "source": [
    "# H0 => mean1 = mean2\n",
    "# Ha => mean1 > mean2\n",
    "# tstat = ((sample_mean1-sample_mean2)-(mu1-mu2)) / sqrt( (ssd1**2 / n1) + (ssd2**2) / n2 )\n",
    "df = 10+12-2\n",
    "tstat = ((46.31-42.79)-(0)) / sqrt( (6.44**2 / 12) + (7.92**2) / 10 )\n",
    "print(\"tstat : \",tstat)\n",
    "# it is a one tailed test\n",
    "pValue = 1-stats.t.cdf(0.05,df=df)\n",
    "print(\"pValue : \",pValue)"
   ]
  },
  {
   "cell_type": "markdown",
   "metadata": {},
   "source": [
    "Null hypothesis can not be rejected"
   ]
  },
  {
   "cell_type": "markdown",
   "metadata": {},
   "source": [
    "## -----------------------------------------------------------------------\n",
    "Question 10:Estimate a 90 percent confidence interval for the difference between the number of raisins per box in two brands of breakfast cereal.\n",
    "\n",
    "\n",
    "Brand A : n = 6, xbar = 102.1, s = 12.3\n",
    "\n",
    "Brand B : n = 9, xbar = 93.6, s = 7.52"
   ]
  },
  {
   "cell_type": "code",
   "execution_count": 138,
   "metadata": {},
   "outputs": [
    {
     "name": "stdout",
     "output_type": "stream",
     "text": [
      "-1.7709333959867992\n",
      "Interval_95 : (-1.439083096975132,18.439083096975132)\n"
     ]
    }
   ],
   "source": [
    "df = 9+6-2 # smaller one\n",
    "# significance level = 0.1\n",
    "tstat = stats.t.ppf(0.05,df=df)\n",
    "print(tstat)\n",
    "val1 = 102.1-93.6 + tstat * sqrt( (12.3**2 / 6) + (7.52**2) / 9 )\n",
    "val2 = 102.1-93.6 - tstat * sqrt( (12.3**2 / 6) + (7.52**2) / 9 )\n",
    "print(\"Interval_95 : (\"+str(val1)+\",\"+str(val2)+\")\")"
   ]
  },
  {
   "cell_type": "code",
   "execution_count": null,
   "metadata": {},
   "outputs": [],
   "source": []
  },
  {
   "cell_type": "markdown",
   "metadata": {},
   "source": [
    "## ----------------------------------------------------------------------------\n",
    "\n",
    "### Paired difference test\n",
    "\n",
    "Formula : $$ fstat = \\frac{(\\bar x -  \\Delta)}{\\frac{s}{\\sqrt n}} $$\n",
    "\n",
    "Question 11:A farmer decides to try out a new fertilizer on a test plot containing 10 stalks of corn. Before applying the fertilizer, he measures the height of each stalk. Two weeks later, he measures the stalks again, being careful to match each stalk's new height to its previous one. The stalks would have grown an average of 6 inches during that time even without the fertilizer. Did the fertilizer help? Use a significance level of 0.05.\n",
    "\n",
    "\n",
    "Before height = 35.5,31.7,31.2,36.3,22.8,28,24.6,26.1,34.5,27.7\n",
    "\n",
    "After height = 45.3,36,38.6,44.7,31.4,33.5,28.8,35.8,42.9,35.0"
   ]
  },
  {
   "cell_type": "code",
   "execution_count": 140,
   "metadata": {},
   "outputs": [
    {
     "name": "stdout",
     "output_type": "stream",
     "text": [
      "change :  [9.8 4.3 7.4 8.4 8.6 5.5 4.2 9.7 8.4 7.3]\n",
      "change_mean : 7.359999999999999, change_std : 2.053290042833695\n",
      "tstat 2.0945397523545712\n",
      "pValue 0.02531441610669749\n"
     ]
    }
   ],
   "source": [
    "# H0 => mean = 6\n",
    "# Ha => mean > 6\n",
    "# it is one(upper tailed test)\n",
    "before_height = np.array([35.5,31.7,31.2,36.3,22.8,28,24.6,26.1,34.5,27.7])\n",
    "after_height  = np.array([45.3,36,38.6,44.7,31.4,33.5,28.8,35.8,42.9,35.0])\n",
    "hypothesised_diff=6\n",
    "n=10\n",
    "df = 10+10-2\n",
    "\n",
    "change = after_height - before_height\n",
    "print(\"change : \", change)\n",
    "\n",
    "change_mean = np.mean(change)\n",
    "change_std  = sqrt(sum(np.square(change-change_mean))/(10-1))\n",
    "print(\"change_mean : %s, change_std : %s\"%(change_mean, change_std))\n",
    "\n",
    "tstat = (change_mean-hypothesised_diff)/(change_std/sqrt(n))\n",
    "print(\"tstat\",tstat)\n",
    "\n",
    "pValue = 1-stats.t.cdf(tstat,df=df) # upper tailed\n",
    "print(\"pValue\",pValue)\n"
   ]
  },
  {
   "cell_type": "markdown",
   "metadata": {},
   "source": [
    "Since pvalue<0.05 , null hypothesis is rejected"
   ]
  },
  {
   "cell_type": "markdown",
   "metadata": {},
   "source": [
    "### Wilcoxon Signed-Rank Test (A non parametric test) For paired sample\n",
    "It is used to test whether the distributions of two paired samples are equal or not."
   ]
  },
  {
   "cell_type": "code",
   "execution_count": 141,
   "metadata": {},
   "outputs": [
    {
     "name": "stdout",
     "output_type": "stream",
     "text": [
      "21.0 0.5076243443095237\n",
      "Accept null hypothesis\n"
     ]
    }
   ],
   "source": [
    "# H0 => mean1 = mean2\n",
    "# Ha => mean1v != mean2\n",
    "alpha = 0.05\n",
    "from scipy.stats import wilcoxon\n",
    "data1 = [0.873, 2.817, 0.121, -0.945, -0.055, -1.436, 0.360, -1.478, -1.637, -1.869]\n",
    "data2 = [1.142, -0.432, -0.938, -0.729, -0.846, -0.157, 0.500, 1.183, -1.075, -0.169]\n",
    "stat, p = wilcoxon(data1,data2)\n",
    "print(stat, p)\n",
    "if p >= alpha:\n",
    "    print('Accept null hypothesis')\n",
    "else:\n",
    "    print('Reject null hypothesis')"
   ]
  },
  {
   "cell_type": "markdown",
   "metadata": {},
   "source": [
    "## ------------------------------------------------------------------------------\n",
    "## ANOVA and F-test\n",
    "\n",
    "### One way anova\n",
    "\n",
    "$$ fstat = \\frac{between \\ group\\ variability}{within \\ group\\ variability} $$"
   ]
  },
  {
   "cell_type": "code",
   "execution_count": 89,
   "metadata": {},
   "outputs": [
    {
     "name": "stdout",
     "output_type": "stream",
     "text": [
      "0.09641783499925058 0.9083957433926546\n",
      "Accept null hypothesis\n"
     ]
    }
   ],
   "source": [
    "# assuming level of significance=5%\n",
    "# H0 => the means of the samples are equal.\n",
    "# Ha => one or more of the means of the samples are unequal.\n",
    "from scipy.stats import f_oneway\n",
    "alpha = 0.05\n",
    "data1 = [0.873, 2.817, 0.121, -0.945, -0.055, -1.436, 0.360, -1.478, -1.637, -1.869]\n",
    "data2 = [1.142, -0.432, -0.938, -0.729, -0.846, -0.157, 0.500, 1.183, -1.075, -0.169]\n",
    "data3 = [-0.208, 0.696, 0.928, -1.148, -0.213, 0.229, 0.137, 0.269, -0.870, -1.204]\n",
    "\n",
    "stat, p = f_oneway(data1, data2, data3)\n",
    "print(stat, p)\n",
    "if p >= alpha:\n",
    "    print('Accept null hypothesis')\n",
    "else:\n",
    "    print('Reject null hypothesis')"
   ]
  },
  {
   "cell_type": "markdown",
   "metadata": {},
   "source": [
    "### Kruskal - Wallis H test (A non parametric test) For two or more samples\n",
    "Used to test whether the distributions of two or more independent samples are equal or not."
   ]
  },
  {
   "cell_type": "code",
   "execution_count": 90,
   "metadata": {},
   "outputs": [
    {
     "name": "stdout",
     "output_type": "stream",
     "text": [
      "0.5714285714285694 0.4496917979688917\n",
      "Accept null hypothesis\n"
     ]
    }
   ],
   "source": [
    "# H0 => the distributions of all samples are equal.\n",
    "# Ha => the distributions of one or more samples are not equal.\n",
    "from scipy.stats import kruskal\n",
    "alpha = 0.05\n",
    "data1 = [0.873, 2.817, 0.121, -0.945, -0.055, -1.436, 0.360, -1.478, -1.637, -1.869]\n",
    "data2 = [1.142, -0.432, -0.938, -0.729, -0.846, -0.157, 0.500, 1.183, -1.075, -0.169]\n",
    "stat, p = kruskal(data1, data2)\n",
    "print(stat, p)\n",
    "if p >= alpha:\n",
    "    print('Accept null hypothesis')\n",
    "else:\n",
    "    print('Reject null hypothesis')"
   ]
  },
  {
   "cell_type": "markdown",
   "metadata": {},
   "source": [
    "## Chi-Squared Test ( A non parametric test)\n",
    "\n",
    "$$ \\chi^2 = \\frac{(Observed-Expected)^2}{Expected} $$"
   ]
  },
  {
   "cell_type": "code",
   "execution_count": 148,
   "metadata": {},
   "outputs": [
    {
     "name": "stdout",
     "output_type": "stream",
     "text": [
      "Accept null hypothesis\n"
     ]
    }
   ],
   "source": [
    "# significance level = 5%\n",
    "# H0 => Same\n",
    "# Ha => Different\n",
    "table = [[10, 20, 30],\n",
    "         [6,  9,  17]]\n",
    "stat, p, dof, expected = stats.chi2_contingency(table)\n",
    "alpha = 0.05\n",
    "\n",
    "if p > alpha:\n",
    "    print('Accept null hypothesis')\n",
    "else:\n",
    "    print('Reject null hypothesis')"
   ]
  },
  {
   "cell_type": "markdown",
   "metadata": {},
   "source": [
    "$$ Thank You $$"
   ]
  }
 ],
 "metadata": {
  "kernelspec": {
   "display_name": "Python 3",
   "language": "python",
   "name": "python3"
  },
  "language_info": {
   "codemirror_mode": {
    "name": "ipython",
    "version": 3
   },
   "file_extension": ".py",
   "mimetype": "text/x-python",
   "name": "python",
   "nbconvert_exporter": "python",
   "pygments_lexer": "ipython3",
   "version": "3.6.5"
  }
 },
 "nbformat": 4,
 "nbformat_minor": 2
}
